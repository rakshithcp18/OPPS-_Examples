{
 "cells": [
  {
   "cell_type": "code",
   "execution_count": 63,
   "metadata": {},
   "outputs": [
    {
     "name": "stdout",
     "output_type": "stream",
     "text": [
      "the name of the employee is  ram\n",
      "the age of the employee is  21\n",
      "the salary of the employee is  25000\n"
     ]
    }
   ],
   "source": [
    "#creating the employee class \n",
    "class employee:\n",
    "    def __init__(self,name,age,salary):                            # __init__() is a consrtuctor which is used to iniialize the object attributes(variables).\n",
    "        self.name=name\n",
    "        self.age=age\n",
    "        self.salary=salary\n",
    "        \n",
    "    def employee_details(self):                                   # in this employee_details method(function) is created.\n",
    "        print(\"the name of the employee is \", self.name)\n",
    "        print(\"the age of the employee is \", self.age)\n",
    "        print(\"the salary of the employee is \", self.salary)\n",
    "        \n",
    "E1=employee(\"ram\",21,25000)                                        # E1 is an object(i,e instance of the class)\n",
    "E1.employee_details()                                              # for the object E1 the we are calling the employee_details method.\n",
    "        "
   ]
  },
  {
   "cell_type": "code",
   "execution_count": 64,
   "metadata": {},
   "outputs": [
    {
     "name": "stdout",
     "output_type": "stream",
     "text": [
      "this was the good bike\n",
      "The speed of the vehicle is  125\n",
      "the cost of the vehicle is 50000\n"
     ]
    }
   ],
   "source": [
    "#creating the vehicle class \n",
    "class vehicle:\n",
    "    def __init__(self,speed,cost):                               # __init__() is a consrtuctor which is used to iniialize the object attributes(variables).\n",
    "        self.speed=speed\n",
    "        self.cost=cost\n",
    "        \n",
    "    def vehicle_details(self):                                   # in this vehicle_details method(function) is created.\n",
    "        print(\"The speed of the vehicle is \",self.speed)\n",
    "        print(\"the cost of the vehicle is\",self.cost)\n",
    "        \n",
    "class Bike(vehicle):                                             # in this Bike class is created, it inherits the properties like attributes and methods from parent class.\n",
    "    def bike_Details(self):                                      # as soon as bike_details method is called it will execute the follwing statements along parents class properties. \n",
    "        print(\"this was the good bike\")\n",
    "        \n",
    "V1=Bike(125,50000)\n",
    "V1.bike_Details()\n",
    "V1.vehicle_details()"
   ]
  },
  {
   "cell_type": "code",
   "execution_count": 65,
   "metadata": {},
   "outputs": [
    {
     "name": "stdout",
     "output_type": "stream",
     "text": [
      "{'speed': 100, 'range': 250}\n"
     ]
    }
   ],
   "source": [
    "# #creating the vehicles  class \n",
    "class vehicles:\n",
    "    def __init__(self,milage,cost):                                # __init__() consrtuctor initializes the attributes of the milage and cost.                      \n",
    "        self.milage=milage\n",
    "        self.cost=cost\n",
    "        \n",
    "    def show_vehicle_details(self):                                # in this show_vehicle_details method(function) is created.\n",
    "        print(\"the milage of the vehicle is \",self.milage)\n",
    "        print(\"the cost of the vehicle is \",self.cost)\n",
    "        \n",
    "class Bike(vehicles):                                             # Bike class is created which inherits the properties of the vehicles class.\n",
    "    def __init__(self,speed,range):                               # __init__() consrtuctor initializes the attributes of the speed and range.\n",
    "        self.speed=speed\n",
    "        self.range=range\n",
    "            \n",
    "    def bike_details(self):                                       # in this bike_details method(function) is created.\n",
    "        print(\"the speed of the vehicle is \",self.speed)\n",
    "        print(\"the range of the vehicle is \",self.range)\n",
    "        \n",
    "# s1=vehicles(100,250)\n",
    "# s1.show_vehicle_details()\n",
    "\n",
    "s1=Bike(100,250)\n",
    "print(s1.__dict__)\n"
   ]
  },
  {
   "cell_type": "code",
   "execution_count": 66,
   "metadata": {},
   "outputs": [
    {
     "name": "stdout",
     "output_type": "stream",
     "text": [
      "{'bindings': 'paperback', 'title': 'name', 'price': 10}\n"
     ]
    }
   ],
   "source": [
    "#creating the publication class \n",
    "class publication:\n",
    "    def __init__(self,title,price):                                  # __init__() is a consrtuctor, which initilalize the title and price attributes\n",
    "        self.title=title\n",
    "        self.price=price\n",
    "\n",
    "#creating the authorization class.                 \n",
    "class authorization:                                                \n",
    "    def __init__(self,author,publication):                          # __init__() is a consrtuctor, which initilalize the author and publication attributes \n",
    "        self.author=author\n",
    "        self.publication=publication\n",
    "        \n",
    "class Book(publication):                                            # Book class is created in which it inherits the properties from the Publication class.\n",
    "    def __init__(self,title,price,bidings):                         # initializing the binding attribute. \n",
    "        self.bindings=bidings                                       # passing the attributes to the object\n",
    "        super().__init__(title,price)                               # using super().__init() method we are calling the parent class constructor.\n",
    "        \n",
    "        \n",
    "b1=Book(\"name\",10, \"paperback\")\n",
    "print(b1.__dict__)\n",
    "\n"
   ]
  },
  {
   "cell_type": "code",
   "execution_count": 67,
   "metadata": {},
   "outputs": [
    {
     "name": "stdout",
     "output_type": "stream",
     "text": [
      "False\n"
     ]
    }
   ],
   "source": [
    "#creating the book class \n",
    "class book:\n",
    "    def __init__(self,name,author,price):                        # __init__() is a consrtuctor, which initilalize the name, author and price attributes.\n",
    "        self.name=name\n",
    "        self.author=author\n",
    "        self.price=price\n",
    "        \n",
    "    def __eq__(self,other):                                      # creating the magic method __eq__(), that is used for operator overloading of  . \n",
    "        return ( self.price==other.price)\n",
    "    \n",
    "    def __ge__(self,other):\n",
    "        return ( self.price>=other.price)\n",
    "    \n",
    "    def __lt__(self,other):\n",
    "        return (self.price<=other.price)\n",
    "    \n",
    "    \n",
    "b1=book(\"5 am \",\"robin sharma\",150)\n",
    "b2=book(\"6 am \",\"rakesh sharma\",100)   \n",
    "    \n",
    "print(b1<=b2)"
   ]
  },
  {
   "cell_type": "code",
   "execution_count": null,
   "metadata": {},
   "outputs": [],
   "source": []
  }
 ],
 "metadata": {
  "kernelspec": {
   "display_name": ".venv",
   "language": "python",
   "name": "python3"
  },
  "language_info": {
   "codemirror_mode": {
    "name": "ipython",
    "version": 3
   },
   "file_extension": ".py",
   "mimetype": "text/x-python",
   "name": "python",
   "nbconvert_exporter": "python",
   "pygments_lexer": "ipython3",
   "version": "3.10.9"
  },
  "orig_nbformat": 4,
  "vscode": {
   "interpreter": {
    "hash": "07a0dc762e468e79cdb485f22c723b0ab83afe9052990c6a0d4088306111b463"
   }
  }
 },
 "nbformat": 4,
 "nbformat_minor": 2
}
