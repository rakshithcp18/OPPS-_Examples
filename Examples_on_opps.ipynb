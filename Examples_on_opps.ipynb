{
 "cells": [
  {
   "cell_type": "code",
   "execution_count": 18,
   "metadata": {},
   "outputs": [
    {
     "name": "stdout",
     "output_type": "stream",
     "text": [
      "mobile can take selfie\n",
      "red\n"
     ]
    }
   ],
   "source": [
    "class phone:\n",
    "    \n",
    "    def make_shot(self):\n",
    "        print(\"mobile can take selfie\")\n",
    "        \n",
    "    def colours(self,colour):\n",
    "        self.colour=colour\n",
    "        \n",
    "p1=phone()\n",
    "p1.make_shot()\n",
    "\n",
    "p2=phone()\n",
    "p2.colours(\"red\")\n",
    "\n",
    "print(p2.colour)"
   ]
  },
  {
   "cell_type": "code",
   "execution_count": 19,
   "metadata": {},
   "outputs": [
    {
     "name": "stdout",
     "output_type": "stream",
     "text": [
      "tha name of the employee is  ram\n",
      "tha age of the employee is  21\n",
      "tha salary of the employee is  25000\n"
     ]
    }
   ],
   "source": [
    "class employee:\n",
    "    def __init__(self,name,age,salary):\n",
    "        self.name=name\n",
    "        self.age=age\n",
    "        self.salary=salary\n",
    "        \n",
    "    def _employee_details(self):\n",
    "        print(\"tha name of the employee is \", self.name)\n",
    "        print(\"tha age of the employee is \", self.age)\n",
    "        print(\"tha salary of the employee is \", self.salary)\n",
    "        \n",
    "E1=employee(\"ram\",21,25000)\n",
    "E1._employee_details()\n",
    "        "
   ]
  },
  {
   "cell_type": "code",
   "execution_count": 20,
   "metadata": {},
   "outputs": [
    {
     "name": "stdout",
     "output_type": "stream",
     "text": [
      "this was the good bike\n",
      "The speed of the vehicle is  125\n",
      "the cost of the vehicle is 50000\n"
     ]
    }
   ],
   "source": [
    "class vehicle:\n",
    "    def __init__(self,speed,cost):\n",
    "        self.speed=speed\n",
    "        self.cost=cost\n",
    "        \n",
    "    def vehicle_details(self):\n",
    "        print(\"The speed of the vehicle is \",self.speed)\n",
    "        print(\"the cost of the vehicle is\",self.cost)\n",
    "        \n",
    "class Bike(vehicle):\n",
    "    def bike_Details(self):\n",
    "        print(\"this was the good bike\")\n",
    "        \n",
    "V1=Bike(125,50000)\n",
    "V1.bike_Details()\n",
    "V1.vehicle_details()\n",
    "      \n",
    "        \n",
    "    "
   ]
  },
  {
   "cell_type": "code",
   "execution_count": 21,
   "metadata": {},
   "outputs": [
    {
     "name": "stdout",
     "output_type": "stream",
     "text": [
      "the speed of the vehicle is  100\n",
      "the range of the vehicle is  250\n"
     ]
    }
   ],
   "source": [
    "class vehicles:\n",
    "    def __init__(self,milage,cost):\n",
    "        self.milage=milage\n",
    "        self.cost=cost\n",
    "        \n",
    "    def show_vehicle_details(self):\n",
    "        \n",
    "        print(\"the milage of the vehicle is \",self.milage)\n",
    "        print(\"the cost of the vehicle is \",self.cost)\n",
    "        \n",
    "class Bike(vehicles):\n",
    "    def __init__(self,speed,range):\n",
    "        \n",
    "        self.speed=speed\n",
    "        self.range=range\n",
    "            \n",
    "    def bike_details(self):\n",
    "        print(\"the speed of the vehicle is \",self.speed)\n",
    "        print(\"the range of the vehicle is \",self.range)\n",
    "        \n",
    "s1=Bike(100,250)\n",
    "s1.bike_details()\n"
   ]
  },
  {
   "cell_type": "code",
   "execution_count": 22,
   "metadata": {},
   "outputs": [
    {
     "name": "stdout",
     "output_type": "stream",
     "text": [
      "30.0\n",
      "20\n",
      "None\n",
      "50\n",
      "BGS\n"
     ]
    }
   ],
   "source": [
    "class student:\n",
    "    school=\"BGS\"\n",
    "    def __init__(self,m1,m2,m3):\n",
    "        self.m1=m1\n",
    "        self.m2=m2\n",
    "        self.m3=m3\n",
    "        \n",
    "    def avg(self):\n",
    "        return (self.m1+self.m2+self.m3)/3\n",
    "    \n",
    "    \n",
    "    def set_m1(self,value):\n",
    "        self.m1=value\n",
    "        \n",
    "    def get_m1(self):\n",
    "        return self.m1\n",
    "    \n",
    "    @classmethod\n",
    "    def get_school(cls):\n",
    "        return cls.school\n",
    "        \n",
    "        \n",
    "s1=student(20,30,40)\n",
    "print(s1.avg())\n",
    "\n",
    "print(s1.get_m1())\n",
    "\n",
    "print(s1.set_m1(50))\n",
    "print(s1.m1)\n",
    "print(student.get_school())"
   ]
  },
  {
   "cell_type": "code",
   "execution_count": 23,
   "metadata": {},
   "outputs": [
    {
     "name": "stdout",
     "output_type": "stream",
     "text": [
      "name   10\n",
      "rakshith\n"
     ]
    }
   ],
   "source": [
    "class publication:\n",
    "    def __init__(self,title,price):\n",
    "        self.title=title\n",
    "        self.price=price\n",
    "        \n",
    "class authorization:\n",
    "    def __init__(self,author,publication):\n",
    "        self.author=author\n",
    "        self.publication=publication\n",
    "        \n",
    "class Book(publication):\n",
    "    def __init__(self,title,price):\n",
    "        super().__init__(title,price)\n",
    "        \n",
    "class news(authorization):\n",
    "    def __init__(self,author,publication):\n",
    "        super().__init__(author,publication)\n",
    "        \n",
    "        \n",
    "b1=Book(\"name\",10)\n",
    "print(b1.title,\" \",b1.price)\n",
    "\n",
    "b2=news(\"rakshith\",\"times of india\")\n",
    "print(b2.author)\n",
    "        "
   ]
  },
  {
   "cell_type": "code",
   "execution_count": 24,
   "metadata": {},
   "outputs": [
    {
     "name": "stdout",
     "output_type": "stream",
     "text": [
      "78.5\n",
      "400\n"
     ]
    }
   ],
   "source": [
    "from abc import ABC , abstractmethod\n",
    "\n",
    "class calculation(ABC):\n",
    "    def __init__(self):\n",
    "        super().__init__()\n",
    "        \n",
    "    def calarea(self):\n",
    "        pass\n",
    "    \n",
    "class calcircle(calculation):\n",
    "    def __init__(self,radius):\n",
    "        self.radius=radius\n",
    "        \n",
    "    def calarea(self):\n",
    "        return 3.14 * (self.radius**2)\n",
    "    \n",
    "    \n",
    "class calsqu(calculation):\n",
    "    def __init__(self,side):\n",
    "        self.side=side\n",
    "        \n",
    "    def calarea(self):\n",
    "        return self.side*self.side\n",
    "    \n",
    "        \n",
    "    \n",
    "c1=calcircle(5)\n",
    "print(c1.calarea())  \n",
    "c2=calsqu(20) \n",
    "print(c2.calarea())      "
   ]
  },
  {
   "cell_type": "code",
   "execution_count": 25,
   "metadata": {},
   "outputs": [
    {
     "name": "stdout",
     "output_type": "stream",
     "text": [
      "False\n"
     ]
    }
   ],
   "source": [
    "class book:\n",
    "    def __init__(self,name,author,price):\n",
    "        self.name=name\n",
    "        self.author=author\n",
    "        self.price=price\n",
    "        \n",
    "    def __eq__(self,other):\n",
    "        return ( self.price==other.price)\n",
    "    \n",
    "    def __ge__(self,other):\n",
    "        return ( self.price>=other.price)\n",
    "    \n",
    "    def __lt__(self,other):\n",
    "        return (self.price<=other.price)\n",
    "    \n",
    "    \n",
    "b1=book(\"5 am \",\"robin sharma\",150)\n",
    "b2=book(\"6 am \",\"rakesh sharma\",100)   \n",
    "    \n",
    "print(b1<=b2)"
   ]
  }
 ],
 "metadata": {
  "kernelspec": {
   "display_name": "venv",
   "language": "python",
   "name": "python3"
  },
  "language_info": {
   "codemirror_mode": {
    "name": "ipython",
    "version": 3
   },
   "file_extension": ".py",
   "mimetype": "text/x-python",
   "name": "python",
   "nbconvert_exporter": "python",
   "pygments_lexer": "ipython3",
   "version": "3.11.2"
  },
  "orig_nbformat": 4,
  "vscode": {
   "interpreter": {
    "hash": "0276710cea9183bf5723b3ec1551226e7dea836be28ae9161e927da44f504e6b"
   }
  }
 },
 "nbformat": 4,
 "nbformat_minor": 2
}
